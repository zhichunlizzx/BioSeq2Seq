{
 "cells": [
  {
   "cell_type": "markdown",
   "metadata": {},
   "source": [
    "1. Histone Modification"
   ]
  },
  {
   "cell_type": "code",
   "execution_count": null,
   "metadata": {
    "vscode": {
     "languageId": "plaintext"
    }
   },
   "outputs": [],
   "source": [
    "! pyGenomeTracks --dpi 2000 --tracks HM.ini --region 11:56871291-61943076 -o HM.pdf"
   ]
  },
  {
   "cell_type": "markdown",
   "metadata": {},
   "source": [
    "2. Functional Elements"
   ]
  },
  {
   "cell_type": "code",
   "execution_count": null,
   "metadata": {
    "vscode": {
     "languageId": "plaintext"
    }
   },
   "outputs": [],
   "source": [
    "! pyGenomeTracks --dpi 2000 --tracks FE.ini --region 1:116183242-116261481 -o FE.pdf"
   ]
  },
  {
   "cell_type": "markdown",
   "metadata": {},
   "source": [
    "3. Gene Expression"
   ]
  },
  {
   "cell_type": "markdown",
   "metadata": {},
   "source": [
    "! pyGenomeTracks --dpi 2000 --tracks GE.ini --region 22:36674978-36706711 -o GE.pdf"
   ]
  },
  {
   "cell_type": "markdown",
   "metadata": {},
   "source": [
    "4. TFBS"
   ]
  },
  {
   "cell_type": "markdown",
   "metadata": {},
   "source": [
    "! pyGenomeTracks --dpi 2000 --tracks TFBS.ini --region 22:22752766-23018449 -o TFBS.pdf"
   ]
  }
 ],
 "metadata": {
  "language_info": {
   "name": "python"
  }
 },
 "nbformat": 4,
 "nbformat_minor": 2
}
