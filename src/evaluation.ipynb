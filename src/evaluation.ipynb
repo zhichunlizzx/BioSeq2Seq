{
 "cells": [
  {
   "cell_type": "code",
   "execution_count": 1,
   "metadata": {},
   "outputs": [],
   "source": [
    "import os\n",
    "import sys\n",
    "import ipynbname\n",
    "import numpy as np\n",
    "sys.path.append('./src')\n"
   ]
  },
  {
   "cell_type": "code",
   "execution_count": 2,
   "metadata": {},
   "outputs": [],
   "source": [
    "current_file_path = '/local/zzx/code/BioSeq2Seq'\n",
    "sample_path = os.path.abspath(os.path.join(current_file_path, 'test_samples/'))\n",
    "genome_region_path = os.path.abspath(os.path.join(current_file_path, 'genome_regions/'))\n",
    "\n",
    "chr_list = ['chr22']\n",
    "window_size = 128"
   ]
  },
  {
   "cell_type": "markdown",
   "metadata": {},
   "source": [
    "# 1. evaluation of Histone Modification results"
   ]
  },
  {
   "cell_type": "code",
   "execution_count": 3,
   "metadata": {},
   "outputs": [],
   "source": [
    "histone_pred = os.path.join(sample_path, 'histone/H3k4me1.pred.chr22.bw')\n",
    "histone_exper = os.path.join(sample_path, 'histone/H3k4me1.exper.chr22.bigWig')\n",
    "peak_exper = os.path.join(sample_path, 'histone/H3k4me1.bed')"
   ]
  },
  {
   "cell_type": "markdown",
   "metadata": {},
   "source": [
    "(1) Whole Genome correlation"
   ]
  },
  {
   "cell_type": "code",
   "execution_count": 4,
   "metadata": {},
   "outputs": [],
   "source": [
    "from HistoneModification.evaluation.correlation.Whole_Genome.corr_genome_wide import correlation_genome_wide"
   ]
  },
  {
   "cell_type": "code",
   "execution_count": 6,
   "metadata": {},
   "outputs": [
    {
     "name": "stdout",
     "output_type": "stream",
     "text": [
      "Pearson Correlation is 0.7116, Spearman Correlation is 0.7292\n"
     ]
    }
   ],
   "source": [
    "pearson, spearman = correlation_genome_wide(\n",
    "                                        histone_pred,\n",
    "                                        histone_exper,\n",
    "                                        chr_list,\n",
    "                                        window_size\n",
    "                                        )\n",
    "print('Pearson Correlation is %.4f, Spearman Correlation is %.4f' % (pearson, spearman))"
   ]
  },
  {
   "cell_type": "markdown",
   "metadata": {},
   "source": [
    "(2) Correlation near Functional Elements"
   ]
  },
  {
   "cell_type": "code",
   "execution_count": 7,
   "metadata": {},
   "outputs": [],
   "source": [
    "from HistoneModification.evaluation.correlation.base_FE.corr_base_fe import correlation_base_functional_elements"
   ]
  },
  {
   "cell_type": "code",
   "execution_count": 8,
   "metadata": {},
   "outputs": [
    {
     "name": "stdout",
     "output_type": "stream",
     "text": [
      "Pearson Correlation is 0.7477, Spearman Correlation is 0.7886\n"
     ]
    }
   ],
   "source": [
    "fe_file = os.path.join(genome_region_path, 'FE_file/GM12878/promoter.bed')\n",
    "pearson, spearman = correlation_base_functional_elements(\n",
    "                                                    histone_pred,\n",
    "                                                    histone_exper,\n",
    "                                                    fe_file,\n",
    "                                                    length=1280,\n",
    "                                                    include_chr=chr_list,\n",
    "                                                    window_size=window_size,\n",
    "                                                    )\n",
    "\n",
    "print('Pearson Correlation is %.4f, Spearman Correlation is %.4f' % (pearson, spearman))"
   ]
  },
  {
   "cell_type": "markdown",
   "metadata": {},
   "source": [
    "(3) Correlation base tss"
   ]
  },
  {
   "cell_type": "code",
   "execution_count": 28,
   "metadata": {},
   "outputs": [],
   "source": [
    "from HistoneModification.evaluation.correlation.base_TSS.corr_base_tss import call_correlation_base_tss"
   ]
  },
  {
   "cell_type": "code",
   "execution_count": 31,
   "metadata": {},
   "outputs": [
    {
     "name": "stdout",
     "output_type": "stream",
     "text": [
      "H3k4me1\n",
      "--------------------------------------------------\n",
      "0-1k pearson: 0.6329\n",
      "0-1k spearman 0.6855\n",
      "1-10k pearson 0.5543\n",
      "1-10k spearman 0.557\n",
      "10-30k pearson 0.5249\n",
      "10-30k spearman 0.4995\n",
      "30k++ pearson 0.4415\n",
      "30k++ spearman 0.378\n"
     ]
    }
   ],
   "source": [
    "peak_dir = os.path.join(genome_region_path, 'histone_peak_based_TSS/GM12878/near')\n",
    "pearson_1k, spearman_1k, pearson_10k, spearman_10k, pearson_30k, spearman_30k, pearson_30k_, spearman_30k_ = call_correlation_base_tss(\n",
    "                                                                                                                peak_dir,\n",
    "                                                                                                                histone_pred,\n",
    "                                                                                                                histone_exper,\n",
    "                                                                                                                chr_list,\n",
    "                                                                                                                length=1280,\n",
    "                                                                                                            )\n",
    "\n"
   ]
  },
  {
   "cell_type": "markdown",
   "metadata": {},
   "source": [
    "(4) MSE"
   ]
  },
  {
   "cell_type": "code",
   "execution_count": 34,
   "metadata": {},
   "outputs": [],
   "source": [
    "from HistoneModification.evaluation.MSE.mse_genome_wide import get_genome_wide_mse"
   ]
  },
  {
   "cell_type": "code",
   "execution_count": 35,
   "metadata": {},
   "outputs": [
    {
     "name": "stdout",
     "output_type": "stream",
     "text": [
      "mseGlobal: 11.10468\n",
      "mseGene: 29.94\n",
      "mseProm: 38.83\n",
      "mseEnh: 113.18\n",
      "mseObs: 272.6\n",
      "mseImp: 125.58\n"
     ]
    }
   ],
   "source": [
    "fe_dir = os.path.join(genome_region_path, 'FE_file/GM12878')\n",
    "mseGlobal, mseGene, mseProm, mseEnh, mseObs, mseImp = get_genome_wide_mse(\n",
    "                                                                        histone_pred,\n",
    "                                                                        histone_exper,\n",
    "                                                                        fe_dir=fe_dir,\n",
    "                                                                        resolution=1280,\n",
    "                                                                        include_chr=chr_list\n",
    "                                                                        )"
   ]
  },
  {
   "cell_type": "markdown",
   "metadata": {},
   "source": [
    "(5) AUC, AUPR"
   ]
  },
  {
   "cell_type": "code",
   "execution_count": 8,
   "metadata": {},
   "outputs": [],
   "source": [
    "from HistoneModification.evaluation.roc.roc import draw_roc_prc"
   ]
  },
  {
   "cell_type": "code",
   "execution_count": 9,
   "metadata": {},
   "outputs": [
    {
     "name": "stdout",
     "output_type": "stream",
     "text": [
      "AUC = 0.9044, AUPR =  0.6297\n"
     ]
    }
   ],
   "source": [
    "outdir = os.path.join(sample_path, 'histone')\n",
    "\n",
    "roc_auc, prc = draw_roc_prc(\n",
    "                        histone_pred,\n",
    "                        peak_exper,\n",
    "                        outdir,\n",
    "                        window_size=128,\n",
    "                        include_chr=chr_list\n",
    "                        )\n",
    "\n",
    "print('AUC = %.4f, AUPR =  %.4f' % (roc_auc, prc))"
   ]
  },
  {
   "cell_type": "markdown",
   "metadata": {},
   "source": [
    "# 2. evaluation of Functional Elements results"
   ]
  },
  {
   "cell_type": "code",
   "execution_count": 9,
   "metadata": {},
   "outputs": [],
   "source": [
    "promoter_pred = os.path.join(sample_path, 'fe/promoter.chr22.bw')\n",
    "insulator_pred = os.path.join(sample_path, 'fe/insulator.chr22.bw')\n",
    "polya_pred = os.path.join(sample_path, 'fe/polya.chr22.bw')\n",
    "genebody_pred = os.path.join(sample_path, 'fe/genebody.chr22.bw')\n",
    "promoter_label = os.path.join(genome_region_path, 'FE_file/K562/all_promoter.bed')\n",
    "insulator_label = os.path.join(genome_region_path, 'FE_file/K562/insulator.bed')\n",
    "polya_label = os.path.join(genome_region_path, 'FE_file/K562/polya.bed')\n",
    "genebody_label = os.path.join(genome_region_path, 'FE_file/K562/genebody.bed')\n",
    "raw_genebody_file = os.path.join(genome_region_path, 'FE_file/genebody_7_lines_raw.bed')\n",
    "outdir = os.path.join(sample_path, 'fe/out')"
   ]
  },
  {
   "cell_type": "markdown",
   "metadata": {},
   "source": [
    "(1) Classification Performance"
   ]
  },
  {
   "cell_type": "code",
   "execution_count": 4,
   "metadata": {},
   "outputs": [],
   "source": [
    "from FunctionalElements.evaluation.classification_performance.classification_eva import fe_classfication_evaluation"
   ]
  },
  {
   "cell_type": "code",
   "execution_count": 5,
   "metadata": {},
   "outputs": [
    {
     "name": "stdout",
     "output_type": "stream",
     "text": [
      "promoter\n",
      "TP: 809\n",
      "FP: 112\n",
      "TN: 856\n",
      "FN: 66\n",
      "intersect_label: 1210\n",
      "non_intersect_label: 81\n",
      "Acc: 0.903418339663592\n",
      "Pre: 0.8783930510314875\n",
      "Recall: 0.9245714285714286\n",
      "F-Score: 0.9008908685968819\n",
      "label recall: 0.9372579395817195\n",
      "polya\n",
      "TP: 167\n",
      "FP: 166\n",
      "TN: 217\n",
      "FN: 117\n",
      "intersect_label: 170\n",
      "non_intersect_label: 157\n",
      "Acc: 0.5757121439280359\n",
      "Pre: 0.5015015015015015\n",
      "Recall: 0.5880281690140845\n",
      "F-Score: 0.5413290113452188\n",
      "label recall: 0.5198776758409785\n",
      "insulator\n",
      "TP: 394\n",
      "FP: 631\n",
      "TN: 812\n",
      "FN: 214\n",
      "intersect_label: 395\n",
      "non_intersect_label: 324\n",
      "Acc: 0.5880058508044856\n",
      "Pre: 0.38439024390243903\n",
      "Recall: 0.6480263157894737\n",
      "F-Score: 0.4825474586650336\n",
      "label recall: 0.5493741307371349\n",
      "genebody\n",
      "TP: 422\n",
      "FP: 51\n",
      "TN: 462\n",
      "FN: 12\n",
      "intersect_label: 434\n",
      "non_intersect_label: 13\n",
      "Acc: 0.9334741288278775\n",
      "Pre: 0.8921775898520085\n",
      "Recall: 0.9723502304147466\n",
      "F-Score: 0.9305402425578831\n",
      "label recall: 0.970917225950783\n",
      "linc rna:  103\n",
      "rm linc label recall:  0.9622093023255814\n"
     ]
    }
   ],
   "source": [
    "fe_classfication_evaluation(\n",
    "                        pred_promoter=promoter_pred,\n",
    "                        pred_polya=polya_pred,\n",
    "                        pred_insulator=insulator_pred,\n",
    "                        pred_genebody=genebody_pred,\n",
    "                        label_promoter=promoter_label,\n",
    "                        label_polya=polya_label,\n",
    "                        label_insulator=insulator_label,\n",
    "                        label_genebody=genebody_label,\n",
    "                        raw_genebody_file=raw_genebody_file,\n",
    "                        outdir=outdir,\n",
    "                        include_chr=['chr22']\n",
    "    )"
   ]
  },
  {
   "cell_type": "markdown",
   "metadata": {},
   "source": [
    "(2) Classification Performance of dREG's label"
   ]
  },
  {
   "cell_type": "code",
   "execution_count": 3,
   "metadata": {},
   "outputs": [],
   "source": [
    "from FunctionalElements.evaluation.classification_performance.dREG_label_eva import eva_base_dREG_label"
   ]
  },
  {
   "cell_type": "code",
   "execution_count": 5,
   "metadata": {},
   "outputs": [
    {
     "name": "stdout",
     "output_type": "stream",
     "text": [
      "TP: 524\n",
      "FP: 341\n",
      "TN: 4554\n",
      "FN: 130\n",
      "intersect_label: 537\n",
      "non_intersect_label: 155\n",
      "Acc: 0.9151198414128672\n",
      "Pre: 0.6057803468208093\n",
      "Recall: 0.8012232415902141\n",
      "F-Score: 0.6899275839368005\n",
      "label recall: 0.7760115606936416\n",
      "--------------------------------------------------\n",
      "TP: 531\n",
      "FP: 424\n",
      "TN: 4548\n",
      "FN: 136\n",
      "intersect_label: 519\n",
      "non_intersect_label: 173\n",
      "Acc: 0.9006916119879411\n",
      "Pre: 0.556020942408377\n",
      "Recall: 0.7961019490254873\n",
      "F-Score: 0.654747225647349\n",
      "label recall: 0.75\n",
      "--------------------------------------------------\n"
     ]
    }
   ],
   "source": [
    "outdir = os.path.join(sample_path, 'fe/out/tre_evaluation/dREG')\n",
    "predicted_path = os.path.join(sample_path, 'fe/out/tre_evaluation/positive_promoter.bed')\n",
    "\n",
    "positive_label_path = os.path.join(genome_region_path, 'FE_file/dREG_label/K562_dREG_positive.bed')\n",
    "negative_label_path = os.path.join(genome_region_path, 'FE_file/dREG_label/K562_dREG_negative.bed')\n",
    "eva_base_dREG_label(predicted_path,\n",
    "                    positive_label_path,\n",
    "                    negative_label_path,\n",
    "                    outpath=outdir,\n",
    "                    include_chr=['chr22']\n",
    "                    )\n",
    "\n",
    "dREG_predicted_path = os.path.join(genome_region_path, 'FE_file/K562/all_promoter.bed')\n",
    "eva_base_dREG_label(dREG_predicted_path,\n",
    "                    positive_label_path,\n",
    "                    negative_label_path,\n",
    "                    outpath=outdir,\n",
    "                    include_chr=['chr22']\n",
    "                    )"
   ]
  },
  {
   "cell_type": "markdown",
   "metadata": {},
   "source": [
    "(3) AUC, AUPR"
   ]
  },
  {
   "cell_type": "code",
   "execution_count": 3,
   "metadata": {},
   "outputs": [],
   "source": [
    "from FunctionalElements.evaluation.roc.fe_roc import draw_roc_prc"
   ]
  },
  {
   "cell_type": "code",
   "execution_count": 10,
   "metadata": {},
   "outputs": [
    {
     "name": "stdout",
     "output_type": "stream",
     "text": [
      "AUC = 0.9820, AUPR =  0.9114\n"
     ]
    }
   ],
   "source": [
    "outdir = os.path.join(sample_path, 'fe')\n",
    "\n",
    "roc_auc, prc = draw_roc_prc(\n",
    "                        promoter_pred,\n",
    "                        promoter_label,\n",
    "                        outdir,\n",
    "                        window_size=128,\n",
    "                        include_chr=chr_list\n",
    "                        )\n",
    "\n",
    "print('AUC = %.4f, AUPR =  %.4f' % (roc_auc, prc))"
   ]
  },
  {
   "cell_type": "markdown",
   "metadata": {},
   "source": [
    "# 3. evaluation of gene expression results"
   ]
  },
  {
   "cell_type": "code",
   "execution_count": 10,
   "metadata": {},
   "outputs": [],
   "source": [
    "ge_pred = os.path.join(sample_path, 'rna/GM12878_pred.chr22.bw')\n",
    "ge_exper = os.path.join(sample_path, 'rna/GM12878.chr22.bw')\n",
    "ge_exper_peak = os.path.join(genome_region_path, 'FE_file/GM12878/genebody.bed')"
   ]
  },
  {
   "cell_type": "markdown",
   "metadata": {},
   "source": [
    "(1) correlation"
   ]
  },
  {
   "cell_type": "code",
   "execution_count": 7,
   "metadata": {},
   "outputs": [],
   "source": [
    "from GeneExpression.evaluation.correlation.correlation import correlation_genome_wide"
   ]
  },
  {
   "cell_type": "code",
   "execution_count": 12,
   "metadata": {},
   "outputs": [
    {
     "name": "stdout",
     "output_type": "stream",
     "text": [
      "Pearson Correlation is 0.6437, Spearman Correlation is 0.8705\n"
     ]
    }
   ],
   "source": [
    "pearson, spearman = correlation_genome_wide(\n",
    "                                        ge_pred,\n",
    "                                        ge_exper,\n",
    "                                        include_chr=chr_list,\n",
    "                                        window_size=1280\n",
    "                                    )\n",
    "print('Pearson Correlation is %.4f, Spearman Correlation is %.4f' % (pearson, spearman))"
   ]
  },
  {
   "cell_type": "markdown",
   "metadata": {},
   "source": [
    "(2) AUC, AUPR"
   ]
  },
  {
   "cell_type": "code",
   "execution_count": 13,
   "metadata": {},
   "outputs": [],
   "source": [
    "from GeneExpression.evaluation.roc.ge_roc import draw_roc_prc"
   ]
  },
  {
   "cell_type": "code",
   "execution_count": 29,
   "metadata": {},
   "outputs": [
    {
     "name": "stdout",
     "output_type": "stream",
     "text": [
      "AUC = 0.8550, AUPR =  0.6728\n"
     ]
    }
   ],
   "source": [
    "outdir = os.path.join(sample_path, 'rna')\n",
    "\n",
    "roc_auc, prc = draw_roc_prc(\n",
    "                        ge_pred,\n",
    "                        ge_exper_peak,\n",
    "                        outdir,\n",
    "                        window_size=128,\n",
    "                        include_chr=chr_list\n",
    "                        )\n",
    "\n",
    "print('AUC = %.4f, AUPR =  %.4f' % (roc_auc, prc))"
   ]
  },
  {
   "cell_type": "markdown",
   "metadata": {},
   "source": [
    "(3) method comparison can refer to GeneExpression/evaluation/svm/svm_tran_eva.py"
   ]
  },
  {
   "cell_type": "markdown",
   "metadata": {},
   "source": [
    "# 4. evaluation of TFBS results"
   ]
  },
  {
   "cell_type": "code",
   "execution_count": null,
   "metadata": {},
   "outputs": [],
   "source": [
    "outdir = os.path.join(sample_path, 'TF/out')\n",
    "tf_pred = os.path.join(sample_path, 'TF/CTCF.chr22.bw')\n",
    "tf_exper = os.path.join(sample_path, 'TF/CTCF.label.bed')\n",
    "tf_exper_bw = os.path.join(sample_path, 'TF/CTCF.label.chr22.bw')"
   ]
  },
  {
   "cell_type": "markdown",
   "metadata": {},
   "source": [
    "(1) AUPR, Precision at 5% Recall"
   ]
  },
  {
   "cell_type": "code",
   "execution_count": 4,
   "metadata": {},
   "outputs": [],
   "source": [
    "from TFBS.evaluation.AUPR.aupr import call_aupr"
   ]
  },
  {
   "cell_type": "code",
   "execution_count": 5,
   "metadata": {},
   "outputs": [
    {
     "name": "stdout",
     "output_type": "stream",
     "text": [
      "CTCF\n",
      "CTCF: AUPR: 0.580265, Precision at 5% Recall: 1.000000\n"
     ]
    },
    {
     "data": {
      "text/plain": [
       "0.5802648407741444"
      ]
     },
     "execution_count": 5,
     "metadata": {},
     "output_type": "execute_result"
    }
   ],
   "source": [
    "call_aupr(tf_pred,\n",
    "          tf_exper,\n",
    "          outdir,\n",
    "          include_chr=chr_list,\n",
    "          window_size=1000\n",
    "          )"
   ]
  },
  {
   "cell_type": "markdown",
   "metadata": {},
   "source": [
    "(2) Correlation"
   ]
  },
  {
   "cell_type": "code",
   "execution_count": 7,
   "metadata": {},
   "outputs": [],
   "source": [
    "from TFBS.evaluation.correlation.correlation import correlation_genome_wide"
   ]
  },
  {
   "cell_type": "code",
   "execution_count": 8,
   "metadata": {},
   "outputs": [
    {
     "data": {
      "text/plain": [
       "(0.6874, 0.2893)"
      ]
     },
     "execution_count": 8,
     "metadata": {},
     "output_type": "execute_result"
    }
   ],
   "source": [
    "correlation_genome_wide(\n",
    "                        tf_pred,\n",
    "                        tf_exper_bw,\n",
    "                        include_chr=chr_list,\n",
    "                        window_size=1280,\n",
    "                    )"
   ]
  },
  {
   "cell_type": "code",
   "execution_count": null,
   "metadata": {},
   "outputs": [],
   "source": []
  }
 ],
 "metadata": {
  "kernelspec": {
   "display_name": "basenji",
   "language": "python",
   "name": "python3"
  },
  "language_info": {
   "codemirror_mode": {
    "name": "ipython",
    "version": 3
   },
   "file_extension": ".py",
   "mimetype": "text/x-python",
   "name": "python",
   "nbconvert_exporter": "python",
   "pygments_lexer": "ipython3",
   "version": "3.8.12"
  }
 },
 "nbformat": 4,
 "nbformat_minor": 2
}
